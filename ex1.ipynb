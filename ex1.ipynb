{
 "cells": [
  {
   "cell_type": "markdown",
   "metadata": {},
   "source": [
    "# Code"
   ]
  },
  {
   "cell_type": "code",
   "execution_count": 4,
   "metadata": {},
   "outputs": [],
   "source": [
    "def find_subset (num, mySet):\n",
    "    ret = []\n",
    "    string = bin(num)[2:].zfill(len(mySet))\n",
    "    for i in range(len(string)):\n",
    "        if string[i] == \"1\":\n",
    "            ret.append(mySet[i])\n",
    "    return ret"
   ]
  },
  {
   "cell_type": "code",
   "execution_count": 5,
   "metadata": {},
   "outputs": [],
   "source": [
    "class bounded_subsets:\n",
    "    def __init__(self, mySet, upperBound):\n",
    "        self.state = []\n",
    "        self.end = mySet\n",
    "        self.bound = upperBound\n",
    "        self.count = 0\n",
    "    \n",
    "    def __iter__ (self):\n",
    "        return self\n",
    "    \n",
    "    def __next__(self):\n",
    "        if self.count >=pow(2, len(self.end)):\n",
    "            raise StopIteration\n",
    "        ret = self.state\n",
    "        self.count = self.count + 1\n",
    "        while self.count < pow(2, len(self.end)):\n",
    "            self.state = find_subset(self.count, self.end)\n",
    "            if sum(self.state)<=self.bound:\n",
    "                break\n",
    "            else:\n",
    "                self.count = self.count + 1\n",
    "        return ret"
   ]
  },
  {
   "cell_type": "markdown",
   "metadata": {},
   "source": [
    "# Tests"
   ]
  },
  {
   "cell_type": "code",
   "execution_count": 8,
   "metadata": {},
   "outputs": [
    {
     "name": "stdout",
     "output_type": "stream",
     "text": [
      "[], [3], [2], [1], [1, 3], [1, 2], "
     ]
    }
   ],
   "source": [
    "for s in bounded_subsets([1,2,3], 4):\n",
    "    print(s, end=', ')"
   ]
  },
  {
   "cell_type": "code",
   "execution_count": 9,
   "metadata": {},
   "outputs": [
    {
     "name": "stdout",
     "output_type": "stream",
     "text": [
      "[], [4], [3], [2], [2, 4], [2, 3], [1], [1, 4], [1, 3], [1, 2], [1, 2, 3], "
     ]
    }
   ],
   "source": [
    "for s in bounded_subsets([1,2,3,4], 6):\n",
    "    print(s, end=', ')"
   ]
  },
  {
   "cell_type": "code",
   "execution_count": 11,
   "metadata": {},
   "outputs": [
    {
     "name": "stdout",
     "output_type": "stream",
     "text": [
      "[], "
     ]
    }
   ],
   "source": [
    "for s in bounded_subsets([2,3,4], 1):\n",
    "    print(s, end=', ')"
   ]
  },
  {
   "cell_type": "code",
   "execution_count": 12,
   "metadata": {},
   "outputs": [
    {
     "name": "stdout",
     "output_type": "stream",
     "text": [
      "[], [3], [2], [2, 3], [1], [1, 3], [1, 2], "
     ]
    }
   ],
   "source": [
    "for s in bounded_subsets([1,2,3], 5):\n",
    "    print(s, end=', ')"
   ]
  },
  {
   "cell_type": "code",
   "execution_count": 14,
   "metadata": {},
   "outputs": [
    {
     "name": "stdout",
     "output_type": "stream",
     "text": [
      "[], [3], [2], [2, 3], [2], [2, 3], [2, 2], "
     ]
    }
   ],
   "source": [
    "for s in bounded_subsets([2,2,3], 5):\n",
    "    print(s, end=', ')"
   ]
  }
 ],
 "metadata": {
  "interpreter": {
   "hash": "5e00cd03ab671ba4a51c5b060530d245c0e059b462a0bb3c7cee5b0e9a4ce6e1"
  },
  "kernelspec": {
   "display_name": "Python 3.8.5 ('base')",
   "language": "python",
   "name": "python3"
  },
  "language_info": {
   "codemirror_mode": {
    "name": "ipython",
    "version": 3
   },
   "file_extension": ".py",
   "mimetype": "text/x-python",
   "name": "python",
   "nbconvert_exporter": "python",
   "pygments_lexer": "ipython3",
   "version": "3.8.5"
  },
  "orig_nbformat": 4
 },
 "nbformat": 4,
 "nbformat_minor": 2
}
